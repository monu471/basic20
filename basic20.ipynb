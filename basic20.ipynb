{
 "cells": [
  {
   "cell_type": "markdown",
   "id": "d5304b73",
   "metadata": {},
   "source": [
    "### 1. Set the variable test1 to the string &#39;This is a test of the emergency text system,&#39; and save test1 to afile named test.txt."
   ]
  },
  {
   "cell_type": "code",
   "execution_count": 1,
   "id": "9f641a9e",
   "metadata": {},
   "outputs": [],
   "source": [
    "test1 = \"This is a test of the emergency text system\"\n",
    "with open(\"test.txt\",\"w\") as f:\n",
    "    f.write(test1)"
   ]
  },
  {
   "cell_type": "markdown",
   "id": "00da316d",
   "metadata": {},
   "source": [
    "#### 2. Read the contents of the file test.txt into the variable test2. Is there a difference between test 1and test 2?"
   ]
  },
  {
   "cell_type": "code",
   "execution_count": 2,
   "id": "45cb29d9",
   "metadata": {},
   "outputs": [],
   "source": [
    "with open(\"test.txt\",\"r\") as f:\n",
    "    test2 = f.read()\n",
    "    "
   ]
  },
  {
   "cell_type": "code",
   "execution_count": 3,
   "id": "a14b3df3",
   "metadata": {},
   "outputs": [
    {
     "data": {
      "text/plain": [
       "True"
      ]
     },
     "execution_count": 3,
     "metadata": {},
     "output_type": "execute_result"
    }
   ],
   "source": [
    "test1==test2"
   ]
  },
  {
   "cell_type": "code",
   "execution_count": null,
   "id": "7f3271b3",
   "metadata": {},
   "outputs": [],
   "source": [
    "#### 3. Create a CSV file called books.csv by using these lines:\n",
    "title,author,year\n",
    "The Weirdstone of Brisingamen,Alan Garner,1960\n",
    "Perdido Street Station,China Miéville,2000\n",
    "Thud!,Terry Pratchett,2005\n",
    "The Spellman Files,Lisa Lutz,2007\n",
    "Small Gods,Terry Pratchett,1992"
   ]
  },
  {
   "cell_type": "code",
   "execution_count": 4,
   "id": "d9192a6e",
   "metadata": {},
   "outputs": [],
   "source": [
    "dic = {\n",
    "    \"Title\":[\"The Weirdstone of Brisingamen\",\"Perdido Street Station\",\"Thud!\",\"The Spellman Files\",\"Small Gods\"],\n",
    "    \"Author\":[\"Alan Garner\",\"Mieville\",\"Pratchett\",\"lisa lutz\",\"pratchett\"],\n",
    "    \"year\":[\"1960\",\"2000\",\"2005\",\"2007\",\"1992\"]\n",
    "}"
   ]
  },
  {
   "cell_type": "code",
   "execution_count": 6,
   "id": "1f715e21",
   "metadata": {},
   "outputs": [],
   "source": [
    "import json\n",
    "with open(\"new_book.csv\",\"w\") as f:\n",
    "    json.dump(dic,f)"
   ]
  },
  {
   "cell_type": "markdown",
   "id": "d7bb9dc1",
   "metadata": {},
   "source": [
    "```\n",
    "import csv\n",
    "\n",
    "# Define the data\n",
    "data = [\n",
    "    ['title', 'author', 'year'],\n",
    "    ['The Weirdstone of Brisingamen', 'Alan Garner', '1960'],\n",
    "    ['Perdido Street Station', 'China Miéville', '2000'],\n",
    "    ['Thud!', 'Terry Pratchett', '2005'],\n",
    "    ['The Spellman Files', 'Lisa Lutz', '2007'],\n",
    "    ['Small Gods', 'Terry Pratchett', '1992']\n",
    "]\n",
    "\n",
    "# Create and write to the CSV file\n",
    "with open('books.csv', 'w', newline='') as file:\n",
    "    writer = csv.writer(file)\n",
    "    writer.writerows(data)\n",
    "\n",
    "print(\"CSV file created successfully.\")\n",
    "```"
   ]
  },
  {
   "cell_type": "code",
   "execution_count": 8,
   "id": "43b65aa9",
   "metadata": {},
   "outputs": [
    {
     "name": "stdout",
     "output_type": "stream",
     "text": [
      "SQLite database created successfully.\n"
     ]
    }
   ],
   "source": [
    "import sqlite3\n",
    "\n",
    "# Connect to the SQLite database (create it if it doesn't exist)\n",
    "connection = sqlite3.connect(\"books.db\")\n",
    "\n",
    "# Create a cursor object to execute SQL commands\n",
    "cursor = connection.cursor()\n",
    "\n",
    "# Create the books table\n",
    "create_table_query = '''\n",
    "CREATE TABLE IF NOT EXISTS books (\n",
    "    title TEXT,\n",
    "    author TEXT,\n",
    "    year INTEGER\n",
    ")\n",
    "'''\n",
    "\n",
    "cursor.execute(create_table_query)\n",
    "connection.commit()\n",
    "\n",
    "# Close the database connection\n",
    "connection.close()\n",
    "\n",
    "print(\"SQLite database created successfully.\")\n"
   ]
  },
  {
   "cell_type": "markdown",
   "id": "f83ea108",
   "metadata": {},
   "source": [
    "### 5. Read books.csv and insert its data into the book table."
   ]
  },
  {
   "cell_type": "code",
   "execution_count": 10,
   "id": "475d357b",
   "metadata": {},
   "outputs": [
    {
     "name": "stdout",
     "output_type": "stream",
     "text": [
      "Data inserted into the SQLite database successfully.\n"
     ]
    }
   ],
   "source": [
    "import sqlite3\n",
    "import csv\n",
    "\n",
    "# Connect to the SQLite database\n",
    "connection = sqlite3.connect(\"books.db\")\n",
    "cursor = connection.cursor()\n",
    "\n",
    "# Create the books table if it doesn't exist\n",
    "create_table_query = '''\n",
    "CREATE TABLE IF NOT EXISTS books (\n",
    "    title TEXT,\n",
    "    author TEXT,\n",
    "    year INTEGER\n",
    ")\n",
    "'''\n",
    "cursor.execute(create_table_query)\n",
    "\n",
    "# Read data from the CSV file and insert into the books table\n",
    "with open(\"books.csv\", \"r\") as file:\n",
    "    csv_reader = csv.reader(file)\n",
    "    next(csv_reader)  # Skip the header row\n",
    "\n",
    "    for row in csv_reader:\n",
    "        title, author, year = row\n",
    "        insert_query = \"INSERT INTO books (title, author, year) VALUES (?, ?, ?)\"\n",
    "        cursor.execute(insert_query, (title, author, int(year)))\n",
    "\n",
    "# Commit the changes and close the database connection\n",
    "connection.commit()\n",
    "connection.close()\n",
    "\n",
    "print(\"Data inserted into the SQLite database successfully.\")\n"
   ]
  },
  {
   "cell_type": "code",
   "execution_count": 11,
   "id": "7e76d62e",
   "metadata": {},
   "outputs": [
    {
     "name": "stdout",
     "output_type": "stream",
     "text": [
      "('The Weirdstone of Brisingamen', 'Alan Garner', 1960)\n",
      "('Perdido Street Station', 'China Miéville', 2000)\n",
      "('Thud!', 'Terry Pratchett', 2005)\n",
      "('The Spellman Files', 'Lisa Lutz', 2007)\n",
      "('Small Gods', 'Terry Pratchett', 1992)\n"
     ]
    }
   ],
   "source": [
    "import sqlite3\n",
    "\n",
    "# Connect to the SQLite database\n",
    "connection = sqlite3.connect(\"books.db\")\n",
    "cursor = connection.cursor()\n",
    "\n",
    "# Select all rows from the books table\n",
    "select_query = \"SELECT * FROM books\"\n",
    "cursor.execute(select_query)\n",
    "\n",
    "# Fetch all rows and print the data\n",
    "rows = cursor.fetchall()\n",
    "for row in rows:\n",
    "    print(row)\n",
    "\n",
    "# Close the database connection\n",
    "connection.close()\n"
   ]
  },
  {
   "cell_type": "markdown",
   "id": "c697c90f",
   "metadata": {},
   "source": [
    "### 6. Select and print the title column from the book table in alphabetical order."
   ]
  },
  {
   "cell_type": "code",
   "execution_count": 17,
   "id": "ff96144d",
   "metadata": {},
   "outputs": [
    {
     "name": "stdout",
     "output_type": "stream",
     "text": [
      "('Perdido Street Station',)\n",
      "('Small Gods',)\n",
      "('The Spellman Files',)\n",
      "('The Weirdstone of Brisingamen',)\n",
      "('Thud!',)\n"
     ]
    }
   ],
   "source": [
    "con = sqlite3.connect(\"books.db\")\n",
    "cursor = con.cursor()\n",
    "query =  \"SELECT TITLE FROM BOOKS ORDER BY TITLE ASC\"\n",
    "cursor.execute(query)\n",
    "data = cursor.fetchall()\n",
    "for i in data:\n",
    "    print(i)\n",
    "con.close()"
   ]
  },
  {
   "cell_type": "markdown",
   "id": "1d0fb3be",
   "metadata": {},
   "source": [
    "### 7. From the book table, select and print all columns in the order of publication."
   ]
  },
  {
   "cell_type": "code",
   "execution_count": 20,
   "id": "0b542209",
   "metadata": {},
   "outputs": [
    {
     "name": "stdout",
     "output_type": "stream",
     "text": [
      "('The Weirdstone of Brisingamen', 'Alan Garner', 1960)\n",
      "('Small Gods', 'Terry Pratchett', 1992)\n",
      "('Perdido Street Station', 'China Miéville', 2000)\n",
      "('Thud!', 'Terry Pratchett', 2005)\n",
      "('The Spellman Files', 'Lisa Lutz', 2007)\n"
     ]
    }
   ],
   "source": [
    "con = sqlite3.connect(\"books.db\")\n",
    "cursor = con.cursor()\n",
    "query =  \"SELECT *FROM BOOKS ORDER BY YEAR ASC\"\n",
    "cursor.execute(query)\n",
    "data = cursor.fetchall()\n",
    "for i in data:\n",
    "    print(i)\n",
    "con.close()"
   ]
  },
  {
   "cell_type": "markdown",
   "id": "b5cc8757",
   "metadata": {},
   "source": [
    "### 8. Use the sqlalchemy module to connect to the sqlite3 database books.db that you just made inexercise 6."
   ]
  },
  {
   "cell_type": "code",
   "execution_count": 21,
   "id": "aac90295",
   "metadata": {},
   "outputs": [
    {
     "name": "stdout",
     "output_type": "stream",
     "text": [
      "('The Weirdstone of Brisingamen', 'Alan Garner', 1960)\n",
      "('Perdido Street Station', 'China Miéville', 2000)\n",
      "('Thud!', 'Terry Pratchett', 2005)\n",
      "('The Spellman Files', 'Lisa Lutz', 2007)\n",
      "('Small Gods', 'Terry Pratchett', 1992)\n"
     ]
    }
   ],
   "source": [
    "import sqlalchemy\n",
    "from sqlalchemy import create_engine\n",
    "\n",
    "# Create the connection string\n",
    "db_url = \"sqlite:///books.db\"\n",
    "\n",
    "# Create the engine\n",
    "engine = create_engine(db_url)\n",
    "\n",
    "# Establish a connection\n",
    "connection = engine.connect()\n",
    "\n",
    "# Perform database operations\n",
    "result = connection.execute(\"SELECT * FROM books\")\n",
    "\n",
    "for row in result:\n",
    "    print(row)\n",
    "\n",
    "# Close the connection\n",
    "connection.close()\n"
   ]
  },
  {
   "cell_type": "code",
   "execution_count": null,
   "id": "010d68eb",
   "metadata": {},
   "outputs": [],
   "source": []
  }
 ],
 "metadata": {
  "kernelspec": {
   "display_name": "Python 3 (ipykernel)",
   "language": "python",
   "name": "python3"
  },
  "language_info": {
   "codemirror_mode": {
    "name": "ipython",
    "version": 3
   },
   "file_extension": ".py",
   "mimetype": "text/x-python",
   "name": "python",
   "nbconvert_exporter": "python",
   "pygments_lexer": "ipython3",
   "version": "3.10.9"
  }
 },
 "nbformat": 4,
 "nbformat_minor": 5
}
